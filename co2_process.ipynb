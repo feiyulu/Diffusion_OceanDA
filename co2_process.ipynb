{
 "cells": [
  {
   "cell_type": "code",
   "execution_count": 15,
   "metadata": {},
   "outputs": [],
   "source": [
    "import pandas as pd\n",
    "import xarray as xr\n",
    "import numpy as np\n",
    "import os\n",
    "\n",
    "def process_co2_data(file, output_filename=\"co2_daily.nc\"):\n",
    "    \"\"\"\n",
    "    Reads CO2 daily data from a file, converts it to an xarray Dataset,\n",
    "    and saves it as a NetCDF file.\n",
    "\n",
    "    Args:\n",
    "        file (str): The path to the co2_daily_mlo.txt data file.\n",
    "        output_filename (str): The name of the output NetCDF file.\n",
    "    \"\"\"\n",
    "    print(f\"Attempting to read data from: {file}\")\n",
    "    \n",
    "    try:\n",
    "        # Read the data using pandas.\n",
    "        # - `comment='#'` skips lines starting with '#' (header/metadata).\n",
    "        # - `delim_whitespace=True` handles arbitrary whitespace as a separator.\n",
    "        # - `header=None` because the actual column names are in a comment line,\n",
    "        #   and we'll define them manually.\n",
    "        # - `na_values=-999.99` handles the specific missing data indicator.\n",
    "        df = pd.read_csv(file, comment='#', delim_whitespace=True, header=None, na_values=-999.99)\n",
    "\n",
    "        # Define column names based on the file's description\n",
    "        column_names = ['year', 'month', 'day', 'decimal_date', 'co2']\n",
    "        df.columns = column_names\n",
    "\n",
    "        print(\"Data successfully loaded into pandas DataFrame.\")\n",
    "        print(\"First 5 rows:\")\n",
    "        print(df.head())\n",
    "        print(\"\\nDataFrame Info:\")\n",
    "        df.info()\n",
    "\n",
    "        # Create a datetime index from year, month, day columns\n",
    "        df['time'] = pd.to_datetime(df[['year', 'month', 'day']], errors='coerce')\n",
    "\n",
    "        # Drop rows where time could not be parsed (if any) or where CO2 value is NaN\n",
    "        df.dropna(subset=['time', 'co2'], inplace=True)\n",
    "\n",
    "        if df.empty:\n",
    "            print(\"No valid data rows found after parsing and dropping NaNs. Exiting.\")\n",
    "            return\n",
    "\n",
    "        # Set 'time' as the index\n",
    "        df.set_index('time', inplace=True)\n",
    "\n",
    "        full_date_range = pd.date_range(start=df.index.min(), end=df.index.max(), freq='D')\n",
    "        \n",
    "        # Reindex the DataFrame to this full date range.\n",
    "        df_reindexed = df.reindex(full_date_range)\n",
    "        \n",
    "        # Interpolate missing values (NaNs) using linear interpolation\n",
    "        df_filled = df_reindexed.interpolate(method='linear')\n",
    "\n",
    "        # Create xarray DataArray for CO2 value\n",
    "        co2_da = xr.DataArray(\n",
    "            df_filled['co2'],\n",
    "            coords={'time': df_filled.index},\n",
    "            dims=['time'],\n",
    "            name='co2_concentration',\n",
    "            attrs={\n",
    "                'long_name': 'Daily Average CO2 Concentration',\n",
    "                'units': 'ppm (parts per million)',\n",
    "                'description': 'Daily average atmospheric carbon dioxide concentration from Mauna Loa, Hawaii.'\n",
    "            }\n",
    "        )\n",
    "\n",
    "        # Create xarray Dataset\n",
    "        ds = xr.Dataset(\n",
    "            {'co2': co2_da},\n",
    "            coords={'time': df_filled.index},\n",
    "            attrs={\n",
    "                'title': 'Daily Average Atmospheric CO2 Concentration from Mauna Loa, Hawaii',\n",
    "                'source': 'NOAA Global Monitoring Laboratory (GML)',\n",
    "                'history': f'Created by Python script on {pd.Timestamp.now().isoformat()}'\n",
    "            }\n",
    "        )\n",
    "\n",
    "        print(\"\\nxarray Dataset created successfully:\")\n",
    "        print(ds)\n",
    "\n",
    "        # Save to NetCDF\n",
    "        ds.to_netcdf(output_filename)\n",
    "        print(f\"\\nData successfully saved to {output_filename}\")\n",
    "\n",
    "    except Exception as e:\n",
    "        print(f\"An error occurred: {e}\")\n",
    "\n",
    "    return ds"
   ]
  },
  {
   "cell_type": "code",
   "execution_count": 16,
   "metadata": {},
   "outputs": [
    {
     "name": "stdout",
     "output_type": "stream",
     "text": [
      "Attempting to read data from: /scratch/cimes/feiyul/Ocean_Data/obs_data/co2_daily_mlo.txt\n",
      "Data successfully loaded into pandas DataFrame.\n",
      "First 5 rows:\n",
      "   year  month  day  decimal_date     co2\n",
      "0  1974      5   19     1974.3781  333.46\n",
      "1  1974      5   20     1974.3808  333.64\n",
      "2  1974      5   21     1974.3836  333.50\n",
      "3  1974      5   22     1974.3863  333.21\n",
      "4  1974      5   23     1974.3890  333.05\n",
      "\n",
      "DataFrame Info:\n",
      "<class 'pandas.core.frame.DataFrame'>\n",
      "RangeIndex: 15685 entries, 0 to 15684\n",
      "Data columns (total 5 columns):\n",
      " #   Column        Non-Null Count  Dtype  \n",
      "---  ------        --------------  -----  \n",
      " 0   year          15685 non-null  int64  \n",
      " 1   month         15685 non-null  int64  \n",
      " 2   day           15685 non-null  int64  \n",
      " 3   decimal_date  15685 non-null  float64\n",
      " 4   co2           15685 non-null  float64\n",
      "dtypes: float64(2), int64(3)\n",
      "memory usage: 612.8 KB\n",
      "\n",
      "xarray Dataset created successfully:\n",
      "<xarray.Dataset>\n",
      "Dimensions:  (time: 18682)\n",
      "Coordinates:\n",
      "  * time     (time) datetime64[ns] 1974-05-19 1974-05-20 ... 2025-07-11\n",
      "Data variables:\n",
      "    co2      (time) float64 333.5 333.6 333.5 333.2 ... 428.5 428.4 428.4 428.6\n",
      "Attributes:\n",
      "    title:    Daily Average Atmospheric CO2 Concentration from Mauna Loa, Hawaii\n",
      "    source:   NOAA Global Monitoring Laboratory (GML)\n",
      "    history:  Created by Python script on 2025-07-15T15:26:53.788334\n",
      "\n",
      "Data successfully saved to /scratch/cimes/feiyul/Ocean_Data/obs_data/co2_daily.nc\n"
     ]
    }
   ],
   "source": [
    "\n",
    "co2_file = \"/scratch/cimes/feiyul/Ocean_Data/obs_data/co2_daily_mlo.txt\"\n",
    "co2_output = \"/scratch/cimes/feiyul/Ocean_Data/obs_data/co2_daily.nc\"\n",
    "co2_ds=process_co2_data(co2_file,output_filename=co2_output)\n"
   ]
  },
  {
   "cell_type": "code",
   "execution_count": 17,
   "metadata": {},
   "outputs": [
    {
     "data": {
      "text/plain": [
       "[<matplotlib.lines.Line2D at 0x150b0c14b1f0>]"
      ]
     },
     "execution_count": 17,
     "metadata": {},
     "output_type": "execute_result"
    },
    {
     "data": {
      "image/png": "[encoded data removed]",
      "text/plain": [
       "<Figure size 432x288 with 1 Axes>"
      ]
     },
     "metadata": {
      "needs_background": "light"
     },
     "output_type": "display_data"
    }
   ],
   "source": [
    "co2_ds['co2'].plot()"
   ]
  }
 ],
 "metadata": {
  "kernelspec": {
   "display_name": "pyqg",
   "language": "python",
   "name": "python3"
  },
  "language_info": {
   "codemirror_mode": {
    "name": "ipython",
    "version": 3
   },
   "file_extension": ".py",
   "mimetype": "text/x-python",
   "name": "python",
   "nbconvert_exporter": "python",
   "pygments_lexer": "ipython3",
   "version": "3.10.4"
  }
 },
 "nbformat": 4,
 "nbformat_minor": 2
}
