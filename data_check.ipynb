{
 "cells": [
  {
   "cell_type": "code",
   "execution_count": null,
   "metadata": {},
   "outputs": [],
   "source": [
    "import xarray as xr\n",
    "import data_types\n",
    "import importlib\n",
    "import matplotlib.pyplot as plt\n",
    "import numpy as np\n",
    "\n",
    "years=range(2020,2021)\n",
    "\n",
    "# data_dir = '/scratch/cimes/feiyul/Ocean_Data'\n",
    "data_dir = '/collab1/data_untrusted/Feiyu.Lu/Ocean_Data'\n",
    "T_varname = 'thetao_prior_z'\n",
    "S_varname = 'so_prior_z'\n",
    "SST_obs_varname = 'sst'\n",
    "SSS_obs_varname = 'sss'\n",
    "\n",
    "ocean_static_ds = xr.open_dataset(f'{data_dir}/model_data/M9/ocean_z.static.nc')\n",
    "ocean_static_ds['xh']=ocean_static_ds['xh'].where(ocean_static_ds['xh']>0,ocean_static_ds['xh']+360)\n",
    "ocean_static_ds['xq']=ocean_static_ds['xq'].where(ocean_static_ds['xq']>0,ocean_static_ds['xq']+360)\n",
    "ocean_static_ds_rolled = ocean_static_ds.roll(xh=60,roll_coords=True).roll(xq=60,roll_coords=True)\n",
    "geolat= ocean_static_ds_rolled.geolat\n",
    "geolon= ocean_static_ds_rolled.geolon\n",
    "\n",
    "ocean_levels_ds = xr.open_dataset(f'{data_dir}/model_data/M9/vgrid_75_2m.nc')\n",
    "ocean_levels = ocean_levels_ds.dz\n",
    "\n",
    "T_ds = xr.open_mfdataset(\n",
    "    [f'{data_dir}/model_data/M9/ocean_daily.{year}0101-{year}1231.{T_varname}.nc' for year in years])\n",
    "T_ds['xh']=T_ds['xh'].where(T_ds['xh']>0,T_ds['xh']+360)\n",
    "T_ds_rolled = T_ds.roll(xh=60,roll_coords=True)\n",
    "T_var = T_ds_rolled[T_varname]\n",
    "\n",
    "SST_obs_ds = xr.open_mfdataset(\n",
    "    [f'{data_dir}/obs_data/sst/sst.day.{year}.1x1.nc' for year in years])\n",
    "SST_obs_var = SST_obs_ds[SST_obs_varname]\n",
    "\n",
    "SSS_obs_ds = xr.open_mfdataset(\n",
    "    [f'{data_dir}/obs_data/sss/SSS.day.{year}.1x1.nc' for year in years])\n",
    "SSS_obs_var = SSS_obs_ds[SSS_obs_varname]\n",
    "\n",
    "argo_obs_ds = xr.open_mfdataset(\n",
    "    [f'{data_dir}/obs_data/argo/argo_{year}.nc' for year in years])"
   ]
  },
  {
   "cell_type": "code",
   "execution_count": null,
   "metadata": {},
   "outputs": [],
   "source": [
    "argo_obs_ds"
   ]
  },
  {
   "cell_type": "code",
   "execution_count": null,
   "metadata": {},
   "outputs": [],
   "source": [
    "T_var"
   ]
  },
  {
   "cell_type": "code",
   "execution_count": null,
   "metadata": {},
   "outputs": [],
   "source": [
    "SST_obs_var"
   ]
  },
  {
   "cell_type": "code",
   "execution_count": null,
   "metadata": {},
   "outputs": [],
   "source": [
    "importlib.reload(data_types)\n",
    "argo_obs = data_types.argo(argo_obs_ds,nread=10000,nstart=80000)\n",
    "len(argo_obs)"
   ]
  },
  {
   "cell_type": "code",
   "execution_count": null,
   "metadata": {},
   "outputs": [],
   "source": [
    "print(argo_obs.profiles[-1].time)\n",
    "print(argo_obs.time[-1])\n",
    "print(argo_obs.lat[-1])\n",
    "print(argo_obs.lon[-1])\n",
    "plt.plot(argo_obs.profiles[-1].T, argo_obs.profiles[-1].depth,label='Argo T')"
   ]
  },
  {
   "cell_type": "code",
   "execution_count": null,
   "metadata": {},
   "outputs": [],
   "source": [
    "importlib.reload(data_types)\n",
    "\n",
    "indexes = argo_obs.get_profiles_by_period(np.datetime64('2020-01-03T00:00:00'),np.datetime64('2020-01-08T00:00:00'))\n",
    "print(indexes)\n",
    "print(argo_obs.lat[indexes])"
   ]
  },
  {
   "cell_type": "code",
   "execution_count": null,
   "metadata": {},
   "outputs": [],
   "source": [
    "from cartopy import crs as ccrs\n",
    "import matplotlib.pyplot as plt\n",
    "import seaborn\n",
    "\n",
    "fig, axes = plt.subplots(nrows=2, ncols=1, figsize=(12,12),\n",
    "                         subplot_kw={'projection': ccrs.Robinson(210)})\n",
    "\n",
    "day = 5\n",
    "period = [np.datetime64('2020-01-03T00:00:00'),\n",
    "          np.datetime64('2020-01-08T00:00:00')]\n",
    "indexes = argo_obs.get_profiles_by_period(period[0], period[1])\n",
    "level = 0\n",
    "cmap = seaborn.color_palette(\"Spectral_r\", as_cmap=True)\n",
    "\n",
    "axes[0].pcolormesh(geolon, geolat, T_var.isel(z=level,time=day), vmin=-2, vmax=32, cmap=cmap,\n",
    "                   transform = ccrs.PlateCarree())\n",
    "\n",
    "axes[1].pcolormesh(SST_obs_var.isel(time=day), vmin=-2, vmax=32, cmap=cmap,\n",
    "                   transform = ccrs.PlateCarree())\n",
    "axes[1].scatter(argo_obs.lon[indexes], argo_obs.lat[indexes], \n",
    "                s=5, transform = ccrs.PlateCarree())\n",
    "# axes[1].\n",
    "# fig.tight_layout()"
   ]
  }
 ],
 "metadata": {
  "kernelspec": {
   "display_name": "plot",
   "language": "python",
   "name": "python3"
  },
  "language_info": {
   "codemirror_mode": {
    "name": "ipython",
    "version": 3
   },
   "file_extension": ".py",
   "mimetype": "text/x-python",
   "name": "python",
   "nbconvert_exporter": "python",
   "pygments_lexer": "ipython3",
   "version": "3.8.12"
  }
 },
 "nbformat": 4,
 "nbformat_minor": 2
}
